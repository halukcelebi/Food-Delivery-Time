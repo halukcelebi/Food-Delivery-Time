{
 "cells": [
  {
   "cell_type": "raw",
   "id": "f6dfc018",
   "metadata": {},
   "source": [
    "#------------------- DATA -------------------------------------- \n",
    "\n",
    "ID: order ID number \n",
    "Delivery_person_ID: ID number of the delivery partner\n",
    "Delivery_person_Age: Age of the delivery partner\n",
    "Delivery_person_Ratings: ratings of the delivery partner based on past deliveries\n",
    "Restaurant_latitude: The latitude of the restaurant\n",
    "Restaurant_longitude: The longitude of the restaurant\n",
    "Delivery_location_latitude: The latitude of the delivery location\n",
    "Delivery_location_longitude: The longitude of the delivery location\n",
    "Type_of_order: The type of meal ordered by the customer\n",
    "Type_of_vehicle: The type of vehicle delivery partner rides\n",
    "Time_taken(min): The time taken by the delivery partner to complete the order\n",
    "\n",
    "datasource link: https://thecleverprogrammer.com/2023/01/02/food-delivery-time-prediction-using-python/\n",
    "\n",
    "- The regression methods did not work so I used the deep learning method in\n",
    "the article. The success rate of the model in the article is %62 because\n",
    "it is using only threee parameters. I added verbal variables as well. "
   ]
  },
  {
   "cell_type": "code",
   "execution_count": 1,
   "id": "ba45797e",
   "metadata": {},
   "outputs": [],
   "source": [
    "import pandas as pd\n",
    "import numpy as np"
   ]
  },
  {
   "cell_type": "code",
   "execution_count": 2,
   "id": "270591e8",
   "metadata": {},
   "outputs": [],
   "source": [
    "df = pd.read_csv(\"deliverytime.txt\", header=0)"
   ]
  },
  {
   "cell_type": "code",
   "execution_count": 3,
   "id": "c5c2992f",
   "metadata": {},
   "outputs": [],
   "source": [
    "# EDA"
   ]
  },
  {
   "cell_type": "code",
   "execution_count": 4,
   "id": "0f3eac38",
   "metadata": {},
   "outputs": [
    {
     "data": {
      "text/html": [
       "<div>\n",
       "<style scoped>\n",
       "    .dataframe tbody tr th:only-of-type {\n",
       "        vertical-align: middle;\n",
       "    }\n",
       "\n",
       "    .dataframe tbody tr th {\n",
       "        vertical-align: top;\n",
       "    }\n",
       "\n",
       "    .dataframe thead th {\n",
       "        text-align: right;\n",
       "    }\n",
       "</style>\n",
       "<table border=\"1\" class=\"dataframe\">\n",
       "  <thead>\n",
       "    <tr style=\"text-align: right;\">\n",
       "      <th></th>\n",
       "      <th>ID</th>\n",
       "      <th>Delivery_person_ID</th>\n",
       "      <th>Delivery_person_Age</th>\n",
       "      <th>Delivery_person_Ratings</th>\n",
       "      <th>Restaurant_latitude</th>\n",
       "      <th>Restaurant_longitude</th>\n",
       "      <th>Delivery_location_latitude</th>\n",
       "      <th>Delivery_location_longitude</th>\n",
       "      <th>Type_of_order</th>\n",
       "      <th>Type_of_vehicle</th>\n",
       "      <th>Time_taken(min)</th>\n",
       "    </tr>\n",
       "  </thead>\n",
       "  <tbody>\n",
       "    <tr>\n",
       "      <th>0</th>\n",
       "      <td>4607</td>\n",
       "      <td>INDORES13DEL02</td>\n",
       "      <td>37</td>\n",
       "      <td>4.9</td>\n",
       "      <td>22.745049</td>\n",
       "      <td>75.892471</td>\n",
       "      <td>22.765049</td>\n",
       "      <td>75.912471</td>\n",
       "      <td>Snack</td>\n",
       "      <td>motorcycle</td>\n",
       "      <td>24</td>\n",
       "    </tr>\n",
       "    <tr>\n",
       "      <th>1</th>\n",
       "      <td>B379</td>\n",
       "      <td>BANGRES18DEL02</td>\n",
       "      <td>34</td>\n",
       "      <td>4.5</td>\n",
       "      <td>12.913041</td>\n",
       "      <td>77.683237</td>\n",
       "      <td>13.043041</td>\n",
       "      <td>77.813237</td>\n",
       "      <td>Snack</td>\n",
       "      <td>scooter</td>\n",
       "      <td>33</td>\n",
       "    </tr>\n",
       "    <tr>\n",
       "      <th>2</th>\n",
       "      <td>5D6D</td>\n",
       "      <td>BANGRES19DEL01</td>\n",
       "      <td>23</td>\n",
       "      <td>4.4</td>\n",
       "      <td>12.914264</td>\n",
       "      <td>77.678400</td>\n",
       "      <td>12.924264</td>\n",
       "      <td>77.688400</td>\n",
       "      <td>Drinks</td>\n",
       "      <td>motorcycle</td>\n",
       "      <td>26</td>\n",
       "    </tr>\n",
       "    <tr>\n",
       "      <th>3</th>\n",
       "      <td>7A6A</td>\n",
       "      <td>COIMBRES13DEL02</td>\n",
       "      <td>38</td>\n",
       "      <td>4.7</td>\n",
       "      <td>11.003669</td>\n",
       "      <td>76.976494</td>\n",
       "      <td>11.053669</td>\n",
       "      <td>77.026494</td>\n",
       "      <td>Buffet</td>\n",
       "      <td>motorcycle</td>\n",
       "      <td>21</td>\n",
       "    </tr>\n",
       "    <tr>\n",
       "      <th>4</th>\n",
       "      <td>70A2</td>\n",
       "      <td>CHENRES12DEL01</td>\n",
       "      <td>32</td>\n",
       "      <td>4.6</td>\n",
       "      <td>12.972793</td>\n",
       "      <td>80.249982</td>\n",
       "      <td>13.012793</td>\n",
       "      <td>80.289982</td>\n",
       "      <td>Snack</td>\n",
       "      <td>scooter</td>\n",
       "      <td>30</td>\n",
       "    </tr>\n",
       "  </tbody>\n",
       "</table>\n",
       "</div>"
      ],
      "text/plain": [
       "     ID Delivery_person_ID  Delivery_person_Age  Delivery_person_Ratings  \\\n",
       "0  4607     INDORES13DEL02                   37                      4.9   \n",
       "1  B379     BANGRES18DEL02                   34                      4.5   \n",
       "2  5D6D     BANGRES19DEL01                   23                      4.4   \n",
       "3  7A6A    COIMBRES13DEL02                   38                      4.7   \n",
       "4  70A2     CHENRES12DEL01                   32                      4.6   \n",
       "\n",
       "   Restaurant_latitude  Restaurant_longitude  Delivery_location_latitude  \\\n",
       "0            22.745049             75.892471                   22.765049   \n",
       "1            12.913041             77.683237                   13.043041   \n",
       "2            12.914264             77.678400                   12.924264   \n",
       "3            11.003669             76.976494                   11.053669   \n",
       "4            12.972793             80.249982                   13.012793   \n",
       "\n",
       "   Delivery_location_longitude Type_of_order Type_of_vehicle  Time_taken(min)  \n",
       "0                    75.912471        Snack      motorcycle                24  \n",
       "1                    77.813237        Snack         scooter                33  \n",
       "2                    77.688400       Drinks      motorcycle                26  \n",
       "3                    77.026494       Buffet      motorcycle                21  \n",
       "4                    80.289982        Snack         scooter                30  "
      ]
     },
     "execution_count": 4,
     "metadata": {},
     "output_type": "execute_result"
    }
   ],
   "source": [
    "df.head()"
   ]
  },
  {
   "cell_type": "code",
   "execution_count": 5,
   "id": "40484106",
   "metadata": {},
   "outputs": [
    {
     "data": {
      "text/html": [
       "<div>\n",
       "<style scoped>\n",
       "    .dataframe tbody tr th:only-of-type {\n",
       "        vertical-align: middle;\n",
       "    }\n",
       "\n",
       "    .dataframe tbody tr th {\n",
       "        vertical-align: top;\n",
       "    }\n",
       "\n",
       "    .dataframe thead th {\n",
       "        text-align: right;\n",
       "    }\n",
       "</style>\n",
       "<table border=\"1\" class=\"dataframe\">\n",
       "  <thead>\n",
       "    <tr style=\"text-align: right;\">\n",
       "      <th></th>\n",
       "      <th>ID</th>\n",
       "      <th>Delivery_person_ID</th>\n",
       "      <th>Delivery_person_Age</th>\n",
       "      <th>Delivery_person_Ratings</th>\n",
       "      <th>Restaurant_latitude</th>\n",
       "      <th>Restaurant_longitude</th>\n",
       "      <th>Delivery_location_latitude</th>\n",
       "      <th>Delivery_location_longitude</th>\n",
       "      <th>Type_of_order</th>\n",
       "      <th>Type_of_vehicle</th>\n",
       "      <th>Time_taken(min)</th>\n",
       "    </tr>\n",
       "  </thead>\n",
       "  <tbody>\n",
       "    <tr>\n",
       "      <th>45588</th>\n",
       "      <td>7C09</td>\n",
       "      <td>JAPRES04DEL01</td>\n",
       "      <td>30</td>\n",
       "      <td>4.8</td>\n",
       "      <td>26.902328</td>\n",
       "      <td>75.794257</td>\n",
       "      <td>26.912328</td>\n",
       "      <td>75.804257</td>\n",
       "      <td>Meal</td>\n",
       "      <td>motorcycle</td>\n",
       "      <td>32</td>\n",
       "    </tr>\n",
       "    <tr>\n",
       "      <th>45589</th>\n",
       "      <td>D641</td>\n",
       "      <td>AGRRES16DEL01</td>\n",
       "      <td>21</td>\n",
       "      <td>4.6</td>\n",
       "      <td>0.000000</td>\n",
       "      <td>0.000000</td>\n",
       "      <td>0.070000</td>\n",
       "      <td>0.070000</td>\n",
       "      <td>Buffet</td>\n",
       "      <td>motorcycle</td>\n",
       "      <td>36</td>\n",
       "    </tr>\n",
       "    <tr>\n",
       "      <th>45590</th>\n",
       "      <td>4F8D</td>\n",
       "      <td>CHENRES08DEL03</td>\n",
       "      <td>30</td>\n",
       "      <td>4.9</td>\n",
       "      <td>13.022394</td>\n",
       "      <td>80.242439</td>\n",
       "      <td>13.052394</td>\n",
       "      <td>80.272439</td>\n",
       "      <td>Drinks</td>\n",
       "      <td>scooter</td>\n",
       "      <td>16</td>\n",
       "    </tr>\n",
       "    <tr>\n",
       "      <th>45591</th>\n",
       "      <td>5EEE</td>\n",
       "      <td>COIMBRES11DEL01</td>\n",
       "      <td>20</td>\n",
       "      <td>4.7</td>\n",
       "      <td>11.001753</td>\n",
       "      <td>76.986241</td>\n",
       "      <td>11.041753</td>\n",
       "      <td>77.026241</td>\n",
       "      <td>Snack</td>\n",
       "      <td>motorcycle</td>\n",
       "      <td>26</td>\n",
       "    </tr>\n",
       "    <tr>\n",
       "      <th>45592</th>\n",
       "      <td>5FB2</td>\n",
       "      <td>RANCHIRES09DEL02</td>\n",
       "      <td>23</td>\n",
       "      <td>4.9</td>\n",
       "      <td>23.351058</td>\n",
       "      <td>85.325731</td>\n",
       "      <td>23.431058</td>\n",
       "      <td>85.405731</td>\n",
       "      <td>Snack</td>\n",
       "      <td>scooter</td>\n",
       "      <td>36</td>\n",
       "    </tr>\n",
       "  </tbody>\n",
       "</table>\n",
       "</div>"
      ],
      "text/plain": [
       "         ID Delivery_person_ID  Delivery_person_Age  Delivery_person_Ratings  \\\n",
       "45588  7C09      JAPRES04DEL01                   30                      4.8   \n",
       "45589  D641      AGRRES16DEL01                   21                      4.6   \n",
       "45590  4F8D     CHENRES08DEL03                   30                      4.9   \n",
       "45591  5EEE    COIMBRES11DEL01                   20                      4.7   \n",
       "45592  5FB2   RANCHIRES09DEL02                   23                      4.9   \n",
       "\n",
       "       Restaurant_latitude  Restaurant_longitude  Delivery_location_latitude  \\\n",
       "45588            26.902328             75.794257                   26.912328   \n",
       "45589             0.000000              0.000000                    0.070000   \n",
       "45590            13.022394             80.242439                   13.052394   \n",
       "45591            11.001753             76.986241                   11.041753   \n",
       "45592            23.351058             85.325731                   23.431058   \n",
       "\n",
       "       Delivery_location_longitude Type_of_order Type_of_vehicle  \\\n",
       "45588                    75.804257         Meal      motorcycle    \n",
       "45589                     0.070000       Buffet      motorcycle    \n",
       "45590                    80.272439       Drinks         scooter    \n",
       "45591                    77.026241        Snack      motorcycle    \n",
       "45592                    85.405731        Snack         scooter    \n",
       "\n",
       "       Time_taken(min)  \n",
       "45588               32  \n",
       "45589               36  \n",
       "45590               16  \n",
       "45591               26  \n",
       "45592               36  "
      ]
     },
     "execution_count": 5,
     "metadata": {},
     "output_type": "execute_result"
    }
   ],
   "source": [
    "df.tail()"
   ]
  },
  {
   "cell_type": "code",
   "execution_count": 6,
   "id": "4af91018",
   "metadata": {},
   "outputs": [
    {
     "name": "stdout",
     "output_type": "stream",
     "text": [
      "<class 'pandas.core.frame.DataFrame'>\n",
      "RangeIndex: 45593 entries, 0 to 45592\n",
      "Data columns (total 11 columns):\n",
      " #   Column                       Non-Null Count  Dtype  \n",
      "---  ------                       --------------  -----  \n",
      " 0   ID                           45593 non-null  object \n",
      " 1   Delivery_person_ID           45593 non-null  object \n",
      " 2   Delivery_person_Age          45593 non-null  int64  \n",
      " 3   Delivery_person_Ratings      45593 non-null  float64\n",
      " 4   Restaurant_latitude          45593 non-null  float64\n",
      " 5   Restaurant_longitude         45593 non-null  float64\n",
      " 6   Delivery_location_latitude   45593 non-null  float64\n",
      " 7   Delivery_location_longitude  45593 non-null  float64\n",
      " 8   Type_of_order                45593 non-null  object \n",
      " 9   Type_of_vehicle              45593 non-null  object \n",
      " 10  Time_taken(min)              45593 non-null  int64  \n",
      "dtypes: float64(5), int64(2), object(4)\n",
      "memory usage: 3.8+ MB\n"
     ]
    }
   ],
   "source": [
    "df.info()"
   ]
  },
  {
   "cell_type": "code",
   "execution_count": 7,
   "id": "9ac1f750",
   "metadata": {},
   "outputs": [],
   "source": [
    "import math\n",
    "\n",
    "def haversine_distance(lat1, lon1, lat2, lon2):\n",
    "    # I obtained the haversine_distance function from chatGPT\n",
    "    # Radius of the Earth in kilometers\n",
    "    R = 6371.0\n",
    "    \n",
    "    # Convert latitude and longitude from degrees to radians\n",
    "    lat1, lon1, lat2, lon2 = map(math.radians, [lat1, lon1, lat2, lon2])\n",
    "    \n",
    "    # Differences between latitudes and longitudes\n",
    "    dlat = lat2 - lat1\n",
    "    dlon = lon2 - lon1\n",
    "    \n",
    "    # Haversine formula\n",
    "    a = math.sin(dlat / 2) ** 2 + math.cos(lat1) * math.cos(lat2) * math.sin(dlon / 2) ** 2\n",
    "    c = 2 * math.atan2(math.sqrt(a), math.sqrt(1 - a))\n",
    "    \n",
    "    # Calculate distance in kilometers\n",
    "    distance = R * c\n",
    "    return distance\n",
    "\n",
    "df['distance'] = df.apply(lambda row: haversine_distance(row['Restaurant_latitude'], row['Restaurant_longitude'],  \\\n",
    "                                                      row['Delivery_location_latitude'], row['Delivery_location_longitude'] \\\n",
    "                                                      ), axis=1)\n"
   ]
  },
  {
   "cell_type": "code",
   "execution_count": 8,
   "id": "ebb08e3d",
   "metadata": {},
   "outputs": [],
   "source": [
    "df.drop(['Restaurant_latitude','Restaurant_longitude','Delivery_location_latitude','Delivery_location_longitude'], axis=1, inplace = True)"
   ]
  },
  {
   "cell_type": "code",
   "execution_count": 9,
   "id": "fff4ad1c",
   "metadata": {},
   "outputs": [],
   "source": [
    "df.drop(['ID','Type_of_order','Delivery_person_ID'], axis=1,inplace =True)"
   ]
  },
  {
   "cell_type": "code",
   "execution_count": 10,
   "id": "11a619a3",
   "metadata": {},
   "outputs": [
    {
     "name": "stderr",
     "output_type": "stream",
     "text": [
      "C:\\Users\\haluk\\AppData\\Local\\Temp\\ipykernel_13096\\368622265.py:1: FutureWarning: The default value of numeric_only in DataFrame.corr is deprecated. In a future version, it will default to False. Select only valid columns or specify the value of numeric_only to silence this warning.\n",
      "  abs(df.corr()['Time_taken(min)']).sort_values(ascending=False)\n"
     ]
    },
    {
     "data": {
      "text/plain": [
       "Time_taken(min)            1.000000\n",
       "Delivery_person_Ratings    0.331103\n",
       "Delivery_person_Age        0.292708\n",
       "distance                   0.002508\n",
       "Name: Time_taken(min), dtype: float64"
      ]
     },
     "execution_count": 10,
     "metadata": {},
     "output_type": "execute_result"
    }
   ],
   "source": [
    "abs(df.corr()['Time_taken(min)']).sort_values(ascending=False) "
   ]
  },
  {
   "cell_type": "code",
   "execution_count": 11,
   "id": "eec28529",
   "metadata": {},
   "outputs": [],
   "source": [
    "#column = 'Delivery_person_ID';\n",
    "#value_counts = df[column].value_counts()\n",
    "#num_categories = len(value_counts)\n",
    "        \n",
    "# İki alt kategorisi varsa 0 ve 1 olarak kodlayalım\n",
    "#if num_categories == 2:\n",
    "#    category_mapping = {category: index for index, category in enumerate(value_counts.index)}\n",
    "#    df[column] = df[column].map(category_mapping)\n",
    "    # İki alt kategoriden fazlaysa 1'den başlayan sıralı sayılarla kodlayalım\n",
    "#else:\n",
    "#    category_mapping = {category: index + 1 for index, category in enumerate(value_counts.index)}\n",
    "#    df[column] = df[column].map(category_mapping)\n",
    "#df.drop([column], axis = 1, inplace = True)    "
   ]
  },
  {
   "cell_type": "code",
   "execution_count": 12,
   "id": "255d094f",
   "metadata": {},
   "outputs": [],
   "source": [
    "y = df['Time_taken(min)']\n",
    "x = df.drop(['Time_taken(min)'],axis=1)\n",
    "\n",
    "#x = df[[\"Delivery_person_Age\", \n",
    "#                \"Delivery_person_Ratings\", \n",
    "#                   \"distance\"]]\n",
    "#y = df[[\"Time_taken(min)\"]]\n"
   ]
  },
  {
   "cell_type": "code",
   "execution_count": 13,
   "id": "5285b64a",
   "metadata": {},
   "outputs": [],
   "source": [
    "x= pd.get_dummies(x,drop_first=True)"
   ]
  },
  {
   "cell_type": "code",
   "execution_count": 14,
   "id": "d4144417",
   "metadata": {},
   "outputs": [
    {
     "data": {
      "text/plain": [
       "(45593, 6)"
      ]
     },
     "execution_count": 14,
     "metadata": {},
     "output_type": "execute_result"
    }
   ],
   "source": [
    "x.shape"
   ]
  },
  {
   "cell_type": "code",
   "execution_count": 15,
   "id": "29ee64a1",
   "metadata": {},
   "outputs": [],
   "source": [
    "def fnc_all_regression_models(x,y):\n",
    "    \n",
    "    from sklearn.linear_model import LinearRegression\n",
    "    from sklearn.linear_model import Ridge,Lasso\n",
    "    from sklearn.linear_model import ElasticNet\n",
    "    from sklearn.tree import ExtraTreeRegressor\n",
    "    from sklearn.ensemble import GradientBoostingRegressor\n",
    "    from sklearn.neighbors import KNeighborsRegressor\n",
    "    \n",
    "    from sklearn.model_selection import train_test_split\n",
    "\n",
    "    from sklearn.metrics import mean_squared_error,r2_score,mean_absolute_error\n",
    "    from sklearn.preprocessing import PolynomialFeatures\n",
    "    from sklearn.pipeline import Pipeline\n",
    "    from sklearn import svm\n",
    "    from sklearn.tree import DecisionTreeRegressor\n",
    "    from sklearn.ensemble import RandomForestRegressor\n",
    "    \n",
    "    x_train,x_test,y_train,y_test=train_test_split(x,y,test_size=0.2,random_state=42)\n",
    "\n",
    "    L=LinearRegression()\n",
    "    R=Ridge()\n",
    "    Lass=Lasso()\n",
    "    E=ElasticNet()\n",
    "    ExTree=ExtraTreeRegressor()\n",
    "    GBR=GradientBoostingRegressor()\n",
    "    KN=KNeighborsRegressor()\n",
    "    PLR = Pipeline([('poly', PolynomialFeatures(degree=2)),\n",
    "        ('linear', LinearRegression(fit_intercept=True))])\n",
    "    SVM = svm.SVR()\n",
    "    DTR = DecisionTreeRegressor(max_depth=12)\n",
    "    RFR=RandomForestRegressor(n_estimators=100, max_features=100, max_leaf_nodes=100,random_state=42)\n",
    "\n",
    "    algos=[L,R,Lass,E,ExTree,GBR,KN,PLR, SVM, DTR,RFR]\n",
    "    algo_names=['LinearRegression','Ridge','Lasso','ElasticNet','ExtraTreeRegressor',\n",
    "                'GradientBoostingRegressor','KNeighborsRegressor','Polynomial',\n",
    "                'Support Vector Regression', 'Decision Tree Regressor','Random Forest Regressor']\n",
    "    r_squared=[]\n",
    "    rmse=[]\n",
    "    mae=[]\n",
    "    \n",
    "    result = pd.DataFrame(columns=['R_Squared','RMSE','MAE'],index=algo_names)\n",
    "    \n",
    "    for item in algos:\n",
    "        item.fit(x_train,y_train)\n",
    "        item.predict(x_test)\n",
    "        r_squared.append(r2_score(y_test,item.predict(x_test)))\n",
    "        rmse.append((mean_squared_error(y_test,item.predict(x_test)))**.5)\n",
    "        mae.append(mean_absolute_error(y_test,item.predict(x_test)))\n",
    "        \n",
    "    result.R_Squared=r_squared\n",
    "    result.RMSE=rmse\n",
    "    result.MAE=mae\n",
    "        \n",
    "    return result.sort_values('R_Squared',ascending=False)"
   ]
  },
  {
   "cell_type": "code",
   "execution_count": 16,
   "id": "71b2a31e",
   "metadata": {},
   "outputs": [
    {
     "data": {
      "text/html": [
       "<div>\n",
       "<style scoped>\n",
       "    .dataframe tbody tr th:only-of-type {\n",
       "        vertical-align: middle;\n",
       "    }\n",
       "\n",
       "    .dataframe tbody tr th {\n",
       "        vertical-align: top;\n",
       "    }\n",
       "\n",
       "    .dataframe thead th {\n",
       "        text-align: right;\n",
       "    }\n",
       "</style>\n",
       "<table border=\"1\" class=\"dataframe\">\n",
       "  <thead>\n",
       "    <tr style=\"text-align: right;\">\n",
       "      <th></th>\n",
       "      <th>R_Squared</th>\n",
       "      <th>RMSE</th>\n",
       "      <th>MAE</th>\n",
       "    </tr>\n",
       "  </thead>\n",
       "  <tbody>\n",
       "    <tr>\n",
       "      <th>Random Forest Regressor</th>\n",
       "      <td>0.409011</td>\n",
       "      <td>7.198388</td>\n",
       "      <td>5.667627</td>\n",
       "    </tr>\n",
       "    <tr>\n",
       "      <th>GradientBoostingRegressor</th>\n",
       "      <td>0.406180</td>\n",
       "      <td>7.215613</td>\n",
       "      <td>5.673092</td>\n",
       "    </tr>\n",
       "    <tr>\n",
       "      <th>Decision Tree Regressor</th>\n",
       "      <td>0.329837</td>\n",
       "      <td>7.665417</td>\n",
       "      <td>5.964992</td>\n",
       "    </tr>\n",
       "    <tr>\n",
       "      <th>KNeighborsRegressor</th>\n",
       "      <td>0.262924</td>\n",
       "      <td>8.038993</td>\n",
       "      <td>6.297489</td>\n",
       "    </tr>\n",
       "    <tr>\n",
       "      <th>Polynomial</th>\n",
       "      <td>0.208077</td>\n",
       "      <td>8.332725</td>\n",
       "      <td>6.586526</td>\n",
       "    </tr>\n",
       "    <tr>\n",
       "      <th>LinearRegression</th>\n",
       "      <td>0.203042</td>\n",
       "      <td>8.359177</td>\n",
       "      <td>6.607404</td>\n",
       "    </tr>\n",
       "    <tr>\n",
       "      <th>Ridge</th>\n",
       "      <td>0.203037</td>\n",
       "      <td>8.359200</td>\n",
       "      <td>6.607431</td>\n",
       "    </tr>\n",
       "    <tr>\n",
       "      <th>ElasticNet</th>\n",
       "      <td>0.108317</td>\n",
       "      <td>8.842007</td>\n",
       "      <td>7.100385</td>\n",
       "    </tr>\n",
       "    <tr>\n",
       "      <th>Lasso</th>\n",
       "      <td>0.086497</td>\n",
       "      <td>8.949539</td>\n",
       "      <td>7.198703</td>\n",
       "    </tr>\n",
       "    <tr>\n",
       "      <th>Support Vector Regression</th>\n",
       "      <td>0.042552</td>\n",
       "      <td>9.162273</td>\n",
       "      <td>7.352763</td>\n",
       "    </tr>\n",
       "    <tr>\n",
       "      <th>ExtraTreeRegressor</th>\n",
       "      <td>-0.163839</td>\n",
       "      <td>10.101644</td>\n",
       "      <td>7.735893</td>\n",
       "    </tr>\n",
       "  </tbody>\n",
       "</table>\n",
       "</div>"
      ],
      "text/plain": [
       "                           R_Squared       RMSE       MAE\n",
       "Random Forest Regressor     0.409011   7.198388  5.667627\n",
       "GradientBoostingRegressor   0.406180   7.215613  5.673092\n",
       "Decision Tree Regressor     0.329837   7.665417  5.964992\n",
       "KNeighborsRegressor         0.262924   8.038993  6.297489\n",
       "Polynomial                  0.208077   8.332725  6.586526\n",
       "LinearRegression            0.203042   8.359177  6.607404\n",
       "Ridge                       0.203037   8.359200  6.607431\n",
       "ElasticNet                  0.108317   8.842007  7.100385\n",
       "Lasso                       0.086497   8.949539  7.198703\n",
       "Support Vector Regression   0.042552   9.162273  7.352763\n",
       "ExtraTreeRegressor         -0.163839  10.101644  7.735893"
      ]
     },
     "execution_count": 16,
     "metadata": {},
     "output_type": "execute_result"
    }
   ],
   "source": [
    "fnc_all_regression_models(x,y)"
   ]
  },
  {
   "cell_type": "code",
   "execution_count": 28,
   "id": "06eb2300",
   "metadata": {},
   "outputs": [
    {
     "name": "stdout",
     "output_type": "stream",
     "text": [
      "Model: \"sequential_4\"\n",
      "_________________________________________________________________\n",
      " Layer (type)                Output Shape              Param #   \n",
      "=================================================================\n",
      " lstm_6 (LSTM)               (None, 6, 128)            66560     \n",
      "                                                                 \n",
      " lstm_7 (LSTM)               (None, 64)                49408     \n",
      "                                                                 \n",
      " dense_16 (Dense)            (None, 64)                4160      \n",
      "                                                                 \n",
      " dense_17 (Dense)            (None, 64)                4160      \n",
      "                                                                 \n",
      " dense_18 (Dense)            (None, 25)                1625      \n",
      "                                                                 \n",
      " dense_19 (Dense)            (None, 19)                494       \n",
      "                                                                 \n",
      " dense_20 (Dense)            (None, 10)                200       \n",
      "                                                                 \n",
      " dense_21 (Dense)            (None, 1)                 11        \n",
      "                                                                 \n",
      "=================================================================\n",
      "Total params: 126618 (494.60 KB)\n",
      "Trainable params: 126618 (494.60 KB)\n",
      "Non-trainable params: 0 (0.00 Byte)\n",
      "_________________________________________________________________\n",
      "Epoch 1/10\n",
      "41033/41033 [==============================] - 98s 2ms/step - loss: 70.3501\n",
      "Epoch 2/10\n",
      "41033/41033 [==============================] - 95s 2ms/step - loss: 62.9000\n",
      "Epoch 3/10\n",
      "41033/41033 [==============================] - 90s 2ms/step - loss: 60.2525\n",
      "Epoch 4/10\n",
      "41033/41033 [==============================] - 88s 2ms/step - loss: 59.1533\n",
      "Epoch 5/10\n",
      "41033/41033 [==============================] - 88s 2ms/step - loss: 58.2627\n",
      "Epoch 6/10\n",
      "41033/41033 [==============================] - 88s 2ms/step - loss: 57.7094\n",
      "Epoch 7/10\n",
      "41033/41033 [==============================] - 93s 2ms/step - loss: 57.2351\n",
      "Epoch 8/10\n",
      "41033/41033 [==============================] - 96s 2ms/step - loss: 57.4491\n",
      "Epoch 9/10\n",
      "41033/41033 [==============================] - 95s 2ms/step - loss: 56.8785\n",
      "Epoch 10/10\n",
      "41033/41033 [==============================] - 96s 2ms/step - loss: 56.3561\n"
     ]
    },
    {
     "data": {
      "text/plain": [
       "<keras.src.callbacks.History at 0x2292dae1810>"
      ]
     },
     "execution_count": 28,
     "metadata": {},
     "output_type": "execute_result"
    }
   ],
   "source": [
    "#splitting data\n",
    "from sklearn.model_selection import train_test_split\n",
    "#x = np.array(df[[\"Delivery_person_Age\", \n",
    "#                   \"Delivery_person_Ratings\", \n",
    "#                   \"distance\"]])\n",
    "#y = np.array(df[[\"Time_taken(min)\"]])\n",
    "\n",
    "\n",
    "xtrain, xtest, ytrain, ytest = train_test_split(x, y,  test_size=0.10, random_state=42)\n",
    "\n",
    "# creating the LSTM neural network model\n",
    "from keras.models import Sequential\n",
    "from keras.layers import Dense, LSTM\n",
    "model = Sequential()\n",
    "model.add(LSTM(128, return_sequences=True, input_shape= (xtrain.shape[1], 1)))\n",
    "model.add(LSTM(64, return_sequences=False ))\n",
    "model.add(Dense(64))\n",
    "model.add(Dense(64))\n",
    "model.add(Dense(25))\n",
    "model.add(Dense(19))\n",
    "model.add(Dense(10))\n",
    "model.add(Dense(1))\n",
    "model.summary()\n",
    "\n",
    "# training the model\n",
    "model.compile(optimizer='adam', loss='mean_squared_error')\n",
    "model.fit(xtrain, ytrain, batch_size=1, epochs=10)"
   ]
  },
  {
   "cell_type": "code",
   "execution_count": 29,
   "id": "4a78976e",
   "metadata": {},
   "outputs": [
    {
     "name": "stdout",
     "output_type": "stream",
     "text": [
      "143/143 [==============================] - 1s 3ms/step\n"
     ]
    }
   ],
   "source": [
    "predictions = model.predict(xtest)"
   ]
  },
  {
   "cell_type": "code",
   "execution_count": 30,
   "id": "bfa6e69d",
   "metadata": {},
   "outputs": [
    {
     "data": {
      "text/plain": [
       "(4560,)"
      ]
     },
     "execution_count": 30,
     "metadata": {},
     "output_type": "execute_result"
    }
   ],
   "source": [
    "ytest.shape"
   ]
  },
  {
   "cell_type": "code",
   "execution_count": 31,
   "id": "33d92b34",
   "metadata": {},
   "outputs": [
    {
     "data": {
      "text/plain": [
       "((41033, 6), (4560, 6), (41033,), (4560,))"
      ]
     },
     "execution_count": 31,
     "metadata": {},
     "output_type": "execute_result"
    }
   ],
   "source": [
    "xtrain.shape, xtest.shape, ytrain.shape, ytest.shape"
   ]
  },
  {
   "cell_type": "code",
   "execution_count": 32,
   "id": "2f371b8a",
   "metadata": {},
   "outputs": [
    {
     "data": {
      "text/plain": [
       "0.759515399548253"
      ]
     },
     "execution_count": 32,
     "metadata": {},
     "output_type": "execute_result"
    }
   ],
   "source": [
    "Accuracy_percentage_v = 1 - np.abs( predictions.flatten() - ytest ) / np.abs( ytest )\n",
    "#percentage error is\n",
    "np.mean( Accuracy_percentage_v )\n"
   ]
  },
  {
   "cell_type": "code",
   "execution_count": null,
   "id": "529802bb",
   "metadata": {},
   "outputs": [],
   "source": []
  },
  {
   "cell_type": "code",
   "execution_count": null,
   "id": "89b030ff",
   "metadata": {},
   "outputs": [],
   "source": []
  }
 ],
 "metadata": {
  "kernelspec": {
   "display_name": "Python 3 (ipykernel)",
   "language": "python",
   "name": "python3"
  },
  "language_info": {
   "codemirror_mode": {
    "name": "ipython",
    "version": 3
   },
   "file_extension": ".py",
   "mimetype": "text/x-python",
   "name": "python",
   "nbconvert_exporter": "python",
   "pygments_lexer": "ipython3",
   "version": "3.11.4"
  }
 },
 "nbformat": 4,
 "nbformat_minor": 5
}
